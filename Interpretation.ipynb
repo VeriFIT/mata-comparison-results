{
 "cells": [
  {
   "cell_type": "code",
   "execution_count": 122,
   "id": "d46f14ae-3472-4c82-b812-100d2b9ebd15",
   "metadata": {},
   "outputs": [],
   "source": [
    "# System\n",
    "import os\n",
    "from collections import defaultdict\n",
    "import csv\n",
    "import re\n",
    "import progressbar\n",
    "\n",
    "# Data Analysis\n",
    "import pandas\n",
    "import tabulate\n",
    "import seaborn\n",
    "import numpy"
   ]
  },
  {
   "cell_type": "code",
   "execution_count": 17,
   "id": "c35703b5-9d3c-4f16-bf63-9a29c870a4d0",
   "metadata": {},
   "outputs": [
    {
     "name": "stdout",
     "output_type": "stream",
     "text": [
      "DATA_SOURCE = \"./data/experiments-09-18\"\n"
     ]
    }
   ],
   "source": [
    "DATA_DIR = \"./data/\"\n",
    "for experiment_dir in os.listdir(DATA_DIR):\n",
    "    full_path = os.path.join(DATA_DIR, experiment_dir)\n",
    "    if os.path.isdir(full_path):\n",
    "        print(f'DATA_SOURCE = \"{full_path}\"')"
   ]
  },
  {
   "cell_type": "code",
   "execution_count": 9,
   "id": "2d298ce7-c10d-4197-a450-6ba3f5a7f518",
   "metadata": {},
   "outputs": [],
   "source": [
    "DATA_SOURCE = \"./data/experiments-09-18\""
   ]
  },
  {
   "cell_type": "markdown",
   "id": "4e768b8d-1e22-4fcf-9b8f-e8f9394b9844",
   "metadata": {},
   "source": [
    "## Creating DataFrame"
   ]
  },
  {
   "cell_type": "code",
   "execution_count": 297,
   "id": "5e252f0b-cd6e-4615-99b9-914296df4104",
   "metadata": {},
   "outputs": [],
   "source": [
    "ERR = -1\n",
    "TIMEOUT = -1\n",
    "\n",
    "def to_operation(src):\n",
    "    op = src.split('-')[-1]\n",
    "    if 'runtime' in op:\n",
    "        return 'runtime'\n",
    "    elif 'inter' in op:\n",
    "        return 'intersection'\n",
    "    elif 'union' in op:\n",
    "        return 'union'\n",
    "    elif 'construction' in op or 'conversion' in op:\n",
    "        return 'transform'\n",
    "    elif 'parsing' in op:\n",
    "        return 'parsing'\n",
    "    elif 'result' in op:\n",
    "        return 'result'\n",
    "    elif 'inclusion_check' == op or 'inclusion' == op:\n",
    "        return 'inclusion'\n",
    "    elif 'emptiness_check' == op or 'emptiness' == op:\n",
    "        return 'emptiness'\n",
    "    elif 'compl' == op or 'complementation' == op or 'complement' == op:\n",
    "        return 'complement'\n",
    "    print(f\"{src} unhandled\")\n",
    "    assert False\n",
    "\n",
    "def to_tool_and_lang(tool):\n",
    "    if 'mata-bin' in tool:\n",
    "        return None, None\n",
    "    elif 'awali' in tool:\n",
    "        return 'awali', 'c++'\n",
    "    elif 'mona' in tool:\n",
    "        return 'mona', 'c++'\n",
    "    elif 'vata' in tool:\n",
    "        return 'vata', 'c++'\n",
    "    elif 'java-brics' in tool:\n",
    "        return 'brics', 'java'\n",
    "    elif 'java-automata' in tool:\n",
    "        return '(j)alib', 'java'\n",
    "    elif 'pyfado' in tool:\n",
    "        return 'fado', 'python'\n",
    "    elif 'pyautomata-lib' in tool:\n",
    "        return '(py)alib', 'python'\n",
    "    elif 'pymata' in tool:\n",
    "        return '(py)mata', 'python'\n",
    "    elif 'automata' in tool:\n",
    "        return 'automata', 'c#'\n",
    "    elif 'mata' in tool:\n",
    "        return 'mata', 'c++'\n",
    "    print(f\"{tool} unhandled\")\n",
    "    assert False\n",
    "\n",
    "def to_bench(bench):\n",
    "    if 'automata_inclusion' in bench:\n",
    "        return 'aut_inclusion'\n",
    "    elif 'cox/diff' in bench:\n",
    "        return 'bc_cox_diff'\n",
    "    elif 'cox/inter' in bench:\n",
    "        return 'bc_cox_inter'\n",
    "    elif 'intersect' in bench:\n",
    "        return 'bc_intersect'\n",
    "    elif 'email_filter' in bench:\n",
    "        return 'email_filter'\n",
    "    elif 'z3-noodler' in bench:\n",
    "        return 'z3_noodler'\n",
    "    elif 'presburger' in bench:\n",
    "        return 'presburger'\n",
    "    print(f\"{bench} unhandled\")\n",
    "    assert False\n",
    "\n",
    "def to_value(val):\n",
    "    val = val.strip()\n",
    "    try:\n",
    "        return float(val)\n",
    "    except ValueError:\n",
    "        pass\n",
    "    if val in ['EMPTY', \"NOT EMPTY\"]:\n",
    "        return val\n",
    "    elif val in ('false', 'False'):\n",
    "        return 'false'\n",
    "    elif val in ('true', 'True'):\n",
    "        return 'true'\n",
    "    elif val == 'ERR':\n",
    "        return 'ERR'\n",
    "    elif val == 'MISSING':\n",
    "        return numpy.NAN\n",
    "    elif val == 'TIMEOUT' or val == 'TO':\n",
    "        return TIMEOUT if TIMEOUT < 0 else -TIMEOUT\n",
    "    print(f\"{val} unhandled\")\n",
    "    assert False"
   ]
  },
  {
   "cell_type": "code",
   "execution_count": 298,
   "id": "86b1f1d9-ff65-4aa9-9ae4-78b319db16c6",
   "metadata": {},
   "outputs": [
    {
     "name": "stderr",
     "output_type": "stream",
     "text": [
      "100% (28 of 28) |########################| Elapsed Time: 0:00:00 Time:  0:00:00\n"
     ]
    },
    {
     "name": "stdout",
     "output_type": "stream",
     "text": [
      "               bench                                              input  \\\n",
      "0      aut_inclusion  /home/experiments/nfa-bench/benchmarks/automat...   \n",
      "1      aut_inclusion  /home/experiments/nfa-bench/benchmarks/automat...   \n",
      "2      aut_inclusion  /home/experiments/nfa-bench/benchmarks/automat...   \n",
      "3      aut_inclusion  /home/experiments/nfa-bench/benchmarks/automat...   \n",
      "4      aut_inclusion  /home/experiments/nfa-bench/benchmarks/automat...   \n",
      "...              ...                                                ...   \n",
      "81699     z3_noodler  /home/experiments/nfa-bench/benchmarks/z3-nood...   \n",
      "81700     z3_noodler  /home/experiments/nfa-bench/benchmarks/z3-nood...   \n",
      "81701     z3_noodler  /home/experiments/nfa-bench/benchmarks/z3-nood...   \n",
      "81702     z3_noodler  /home/experiments/nfa-bench/benchmarks/z3-nood...   \n",
      "81703     z3_noodler  /home/experiments/nfa-bench/benchmarks/z3-nood...   \n",
      "\n",
      "           tool lang            op      time  \n",
      "0      automata   c#       runtime      0.98  \n",
      "1      automata   c#        result     EMPTY  \n",
      "2          mata  c++       runtime      3.17  \n",
      "3          mata  c++       parsing   2.46758  \n",
      "4          mata  c++  intersection  0.603483  \n",
      "...         ...  ...           ...       ...  \n",
      "81699     awali  c++       parsing  0.013172  \n",
      "81700     awali  c++     transform  0.000021  \n",
      "81701     awali  c++    complement  0.000516  \n",
      "81702     awali  c++     emptiness  0.000379  \n",
      "81703     awali  c++        result     false  \n",
      "\n",
      "[81704 rows x 6 columns]\n"
     ]
    }
   ],
   "source": [
    "HEADERS = [\"bench\", \"input\", \"tool\", \"lang\", \"op\", \"time\"]\n",
    "TIMEOUT = -60\n",
    "TIMEOUT_REGEX = re.compile(\"timeout-(\\d+)\")\n",
    "processed = defaultdict(set)\n",
    "def to_pandas(src_dir):\n",
    "    global TIMEOUT\n",
    "    data = []\n",
    "    for csv_source in progressbar.progressbar(os.listdir(src_dir)):\n",
    "        if csv_source.endswith('.csv'):\n",
    "            if timeout := TIMEOUT_REGEX.search(csv_source):\n",
    "                TIMEOUT = int(timeout.group(1))\n",
    "            with open(os.path.join(src_dir, csv_source), 'r', newline='') as csvfile:\n",
    "                try:\n",
    "                    csv_reader = csv.reader(csvfile, delimiter=';')\n",
    "                    head = next(csv_reader)\n",
    "                    for row in csv_reader:\n",
    "                        bench = to_bench(row[0]) # bench\n",
    "                        inputs = row[0] # inputs\n",
    "                        for i, val in enumerate(row[1:], 1):\n",
    "                            tool, lang = to_tool_and_lang(head[i]) # tool, lang\n",
    "                            if not tool:\n",
    "                                continue\n",
    "                            op = to_operation(head[i]) # op\n",
    "                            val = to_value(val)\n",
    "                            data.append([bench, inputs, tool, lang, op, val])\n",
    "                except StopIteration:\n",
    "                    pass\n",
    "    return pandas.DataFrame(data, columns=HEADERS)\n",
    "df = to_pandas(DATA_SOURCE)\n",
    "print(df)"
   ]
  },
  {
   "cell_type": "code",
   "execution_count": 316,
   "id": "2559904d-66af-4794-9804-3992447fb72d",
   "metadata": {
    "scrolled": true
   },
   "outputs": [
    {
     "name": "stdout",
     "output_type": "stream",
     "text": [
      "op            mata        awali       mona        vata        automata    brics       (j)alib     fado        (py)alib    (py)mata\n",
      "------------  ----------  ----------  ----------  ----------  ----------  ----------  ----------  ----------  ----------  ----------\n",
      "complement    0.08, 0.00  0.01, 0.00  -           0.07, 0.00  -           0.03, 0.01  0.04, 0.03  0.00, 0.00  0.00, 0.00  0.01, 0.00\n",
      "emptiness     0.16, 0.00  0.39, 0.00  -           0.00, 0.00  -           0.00, 0.00  0.00, 0.00  0.01, 0.00  0.00, 0.00  0.24, 0.00\n",
      "inclusion     0.08, 0.00  0.96, 0.01  -           0.90, 0.04  -           0.35, 0.01  0.07, 0.04  0.35, 0.00  0.00, 0.00  0.12, 0.00\n",
      "intersection  0.50, 0.07  0.54, 0.13  0.22, 0.13  0.23, 0.06  -           1.07, 0.01  0.19, 0.08  3.48, 0.07  0.13, 0.00  0.61, 0.00\n",
      "parsing       0.56, 0.08  0.48, 0.02  0.55, 0.08  0.55, 0.08  -           -           -           -           -           -\n",
      "runtime       1.06, 0.09  1.08, 0.02  -   , -     1.06, 0.15  1.05, 0.23  2.66, 1.32  2.40, 1.78  3.17, 1.07  1.59, 1.04  1.62, 1.04\n",
      "transform     0.03, 0.00  0.01, 0.00  -           0.26, 0.03  -           0.28, 0.09  1.11, 0.28  0.32, 0.03  0.30, 0.04  0.09, 0.00\n",
      "\n",
      "bench          mata        awali       mona        vata        automata    brics       (j)alib      fado        (py)alib    (py)mata\n",
      "-------------  ----------  ----------  ----------  ----------  ----------  ----------  -----------  ----------  ----------  ----------\n",
      "aut_inclusion  0.90, 0.18  1.27, 0.15  1.02, 0.40  1.64, 0.43  2.09, 0.66  2.06, 0.51  1.80, 0.88   4.03, 0.64  1.11, 0.32  0.83, 0.08\n",
      "bc_cox_diff    1.29, 0.20  1.56, 0.30  0.52, 0.26  0.36, 0.10  3.33, 2.22  4.50, 0.17  -   , -      -   , -     -   , -     2.72, 0.60\n",
      "bc_cox_inter   1.95, 0.30  1.76, 0.37  0.54, 0.27  0.39, 0.10  3.36, 2.05  4.52, 0.17  -   , -      -   , -     -   , -     2.77, 0.65\n",
      "bc_intersect   1.03, 0.08  0.97, 0.09  1.00, 0.35  0.62, 0.16  3.92, 0.37  1.84, 0.58  10.84, 1.68  5.45, 0.30  3.61, 0.08  1.21, 0.05\n",
      "email_filter   0.22, 0.03  0.27, 0.04  0.32, 0.17  0.40, 0.10  0.23, 0.22  0.46, 0.06  0.85, 0.21   1.70, 0.09  0.39, 0.05  0.28, 0.00\n",
      "presburger     0.37, 0.02  0.09, 0.02  0.45, 0.13  0.61, 0.12  -   , -     0.65, 0.10  0.99, 0.10   0.52, 0.06  0.40, 0.04  0.30, 0.01\n",
      "z3_noodler     0.00, 0.00  0.00, 0.00  0.00, 0.00  0.01, 0.00  -   , -     0.26, 0.01  0.33, 0.06   0.18, 0.00  0.18, 0.00  0.18, 0.00\n"
     ]
    }
   ],
   "source": [
    "def to_table(df, rows):\n",
    "    def aggregation(series):\n",
    "        timeouts = [a for a in series if (isinstance(a, float) or isinstance(a, int)) and a < 0 and not numpy.isnan(a) and a != 'ERR']\n",
    "        errors = [a for a in series if a == 'ERR']\n",
    "        times = [t for t in series if  (isinstance(t, float) or isinstance(t, int)) and t >= 0]\n",
    "        mean = round(numpy.mean(times or [-1]), 2)\n",
    "        median = round(numpy.median(times or [-1]), 2)\n",
    "        return f\"{mean:0.2f}\" if mean != -1 else f\"{'-':<4}\", f\"{median:0.2f}\" if median != -1 else f\"{'-':<5}\", f\"{len(timeouts):>5}\"\n",
    "    tools = ['mata', 'awali', 'mona', 'vata',  'automata', 'brics', '(j)alib', 'fado', '(py)alib', '(py)mata',]\n",
    "    data = {\n",
    "        grp: [grp] + ['-' for i in range(len(tools))] for grp in set(df[rows]) if grp != 'result'\n",
    "    }\n",
    "    for grp, series in df.groupby([rows, 'tool']):\n",
    "        if grp[0] == 'result':\n",
    "            continue\n",
    "        vals = aggregation(series['time'])\n",
    "        #data[grp[0]][tools.index(grp[1]) + 1] = f\"{vals[0]:0.2f}/{vals[1]:0.2f}/{vals[2]:0.0f}\"\n",
    "        data[grp[0]][tools.index(grp[1]) + 1] = \", \".join([vals[0], vals[1]])\n",
    "    print(tabulate.tabulate(\n",
    "        sorted(data.values()), headers=[rows] + tools\n",
    "    ))\n",
    "to_table(df, rows='op')\n",
    "print()\n",
    "to_table(df, rows='bench')"
   ]
  },
  {
   "cell_type": "code",
   "execution_count": null,
   "id": "92c159f8-fc68-4871-bc95-d7a7f16976d2",
   "metadata": {},
   "outputs": [],
   "source": []
  },
  {
   "cell_type": "code",
   "execution_count": null,
   "id": "8b9fb2f9-eadb-4bf1-ac61-1e10ecb51d65",
   "metadata": {},
   "outputs": [],
   "source": []
  }
 ],
 "metadata": {
  "kernelspec": {
   "display_name": "Python 3 (ipykernel)",
   "language": "python",
   "name": "python3"
  },
  "language_info": {
   "codemirror_mode": {
    "name": "ipython",
    "version": 3
   },
   "file_extension": ".py",
   "mimetype": "text/x-python",
   "name": "python",
   "nbconvert_exporter": "python",
   "pygments_lexer": "ipython3",
   "version": "3.10.12"
  }
 },
 "nbformat": 4,
 "nbformat_minor": 5
}
